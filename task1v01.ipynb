{
 "cells": [
  {
   "cell_type": "code",
   "execution_count": 32,
   "id": "76cb242b",
   "metadata": {},
   "outputs": [],
   "source": [
    "import psycopg2\n",
    "from sqlalchemy import create_engine, inspect, Table, Column, MetaData, Integer, Computed, ForeignKey"
   ]
  },
  {
   "cell_type": "code",
   "execution_count": 33,
   "id": "423dd201",
   "metadata": {},
   "outputs": [],
   "source": [
    "database = {\n",
    "    'host': \"postgres\",\n",
    "    'port': \"5432\",\n",
    "    'name': \"postgres\",\n",
    "    'user': \"postgres\",\n",
    "    'pass': \"changeme\"\n",
    "}"
   ]
  },
  {
   "cell_type": "code",
   "execution_count": 34,
   "id": "43b45336",
   "metadata": {},
   "outputs": [],
   "source": [
    "engine = create_engine(\"postgresql+psycopg2://{user}:{pass}@{host}:{port}/{name}\".format(**database))"
   ]
  },
  {
   "cell_type": "code",
   "execution_count": 35,
   "id": "e6bf01f3",
   "metadata": {},
   "outputs": [
    {
     "name": "stdout",
     "output_type": "stream",
     "text": [
      "['student', 'users', 'servers']\n"
     ]
    }
   ],
   "source": [
    "conn = engine.connect()\n",
    "insp = inspect(engine)\n",
    "\n",
    "print(insp.get_table_names())"
   ]
  },
  {
   "cell_type": "code",
   "execution_count": null,
   "id": "bf60ea42",
   "metadata": {},
   "outputs": [],
   "source": []
  },
  {
   "cell_type": "code",
   "execution_count": 36,
   "id": "96b65013-9832-4d7c-8cfe-543a690df702",
   "metadata": {
    "tags": []
   },
   "outputs": [
    {
     "name": "stdout",
     "output_type": "stream",
     "text": [
      "['student', 'users', 'servers']\n"
     ]
    }
   ],
   "source": [
    "\n",
    "metadata = MetaData(engine)\n",
    "\n",
    "users = Table('users', metadata,\n",
    "    Column('id', Integer, ForeignKey(\"servers.user_id\"), primary_key=True),\n",
    "    Column('name', String(16), nullable=False),\n",
    "    Column('surname', String(50), nullable=False)\n",
    ")\n",
    "\n",
    "servers = Table('servers', metadata,\n",
    "    Column('id', Integer, primary_key=True),\n",
    "    Column('user_id', Integer, ForeignKey(\"users.id\"), unique=True),\n",
    "    Column('hostname', String(50), nullable=False)\n",
    ")\n",
    "metadata.create_all(engine)\n",
    "print(insp.get_table_names())"
   ]
  },
  {
   "cell_type": "code",
   "execution_count": 37,
   "id": "d87d55e7-5fe9-4175-85bb-aaa92a2b9638",
   "metadata": {
    "tags": []
   },
   "outputs": [
    {
     "name": "stdout",
     "output_type": "stream",
     "text": [
      "['student', 'users', 'servers']\n"
     ]
    }
   ],
   "source": [
    "print(insp.get_table_names())"
   ]
  },
  {
   "cell_type": "code",
   "execution_count": null,
   "id": "ddc01cc6-8635-48ab-bd9d-fbdfdce0fd23",
   "metadata": {},
   "outputs": [],
   "source": []
  }
 ],
 "metadata": {
  "kernelspec": {
   "display_name": "Python 3 (ipykernel)",
   "language": "python",
   "name": "python3"
  },
  "language_info": {
   "codemirror_mode": {
    "name": "ipython",
    "version": 3
   },
   "file_extension": ".py",
   "mimetype": "text/x-python",
   "name": "python",
   "nbconvert_exporter": "python",
   "pygments_lexer": "ipython3",
   "version": "3.8.3"
  }
 },
 "nbformat": 4,
 "nbformat_minor": 5
}
