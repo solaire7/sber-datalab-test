{
 "cells": [
  {
   "cell_type": "code",
   "execution_count": null,
   "id": "76cb242b",
   "metadata": {},
   "outputs": [],
   "source": [
    "import psycopg2\n",
    "from sqlalchemy import create_engine, inspect"
   ]
  },
  {
   "cell_type": "code",
   "execution_count": null,
   "id": "423dd201",
   "metadata": {},
   "outputs": [],
   "source": [
    "database = {\n",
    "    'host': \"postgres\",\n",
    "    'port': \"5432\",\n",
    "    'name': \"postgres\",\n",
    "    'user': \"postgres\",\n",
    "    'pass': \"changeme\"\n",
    "}"
   ]
  },
  {
   "cell_type": "code",
   "execution_count": null,
   "id": "43b45336",
   "metadata": {},
   "outputs": [],
   "source": [
    "engine = create_engine(\"postgresql+psycopg2://{user}:{pass}@{host}:{port}/{name}\".format(**database))"
   ]
  },
  {
   "cell_type": "code",
   "execution_count": null,
   "id": "e6bf01f3",
   "metadata": {},
   "outputs": [],
   "source": [
    "conn = engine.connect()\n",
    "insp = inspect(engine)\n",
    "\n",
    "print(insp.get_table_names())"
   ]
  },
  {
   "cell_type": "code",
   "execution_count": null,
   "id": "bf60ea42",
   "metadata": {},
   "outputs": [],
   "source": []
  }
 ],
 "metadata": {
  "kernelspec": {
   "display_name": "Python 3",
   "language": "python",
   "name": "python3"
  },
  "language_info": {
   "codemirror_mode": {
    "name": "ipython",
    "version": 3
   },
   "file_extension": ".py",
   "mimetype": "text/x-python",
   "name": "python",
   "nbconvert_exporter": "python",
   "pygments_lexer": "ipython3",
   "version": "3.8.3"
  }
 },
 "nbformat": 4,
 "nbformat_minor": 5
}
